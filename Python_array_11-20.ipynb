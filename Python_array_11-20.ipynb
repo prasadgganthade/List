{
 "cells": [
  {
   "cell_type": "markdown",
   "id": "02e2c6b5",
   "metadata": {},
   "source": [
    "## 11. Python Program to calculate length of an array."
   ]
  },
  {
   "cell_type": "code",
   "execution_count": 1,
   "id": "2861ceda",
   "metadata": {},
   "outputs": [
    {
     "name": "stdout",
     "output_type": "stream",
     "text": [
      "The length of array is : 5\n"
     ]
    }
   ],
   "source": [
    "arr = [12,24,36,48,60]\n",
    "print('The length of array is :',len(arr))"
   ]
  },
  {
   "cell_type": "markdown",
   "id": "7050bde7",
   "metadata": {},
   "source": [
    "## 12. Python program to insert an element at end of an Array."
   ]
  },
  {
   "cell_type": "code",
   "execution_count": 2,
   "id": "99171d78",
   "metadata": {},
   "outputs": [
    {
     "data": {
      "text/plain": [
       "[12, 24, 36, 48, 60]"
      ]
     },
     "execution_count": 2,
     "metadata": {},
     "output_type": "execute_result"
    }
   ],
   "source": [
    "arr"
   ]
  },
  {
   "cell_type": "code",
   "execution_count": 3,
   "id": "8ef4d7d0",
   "metadata": {},
   "outputs": [],
   "source": [
    "arr.append(72)"
   ]
  },
  {
   "cell_type": "code",
   "execution_count": 4,
   "id": "a594f7d2",
   "metadata": {},
   "outputs": [
    {
     "name": "stdout",
     "output_type": "stream",
     "text": [
      "The array after inserting the 72 is : [12, 24, 36, 48, 60, 72]\n"
     ]
    }
   ],
   "source": [
    "print('The array after inserting the 72 is :',arr)"
   ]
  },
  {
   "cell_type": "markdown",
   "id": "06383b8d",
   "metadata": {},
   "source": [
    "## 13. Python program to insert element at a given location in Array."
   ]
  },
  {
   "cell_type": "code",
   "execution_count": 5,
   "id": "c1cca283",
   "metadata": {},
   "outputs": [
    {
     "name": "stdout",
     "output_type": "stream",
     "text": [
      "Enter the number to insert in the array : 25\n",
      "Enter the index to insert value : 2\n",
      "Array after inserting : [10, 20, 25, 30, 40, 50]\n"
     ]
    }
   ],
   "source": [
    "arr = [10,20,30,40,50]\n",
    "num = int(input('Enter the number to insert in the array : '))\n",
    "index = int(input('Enter the index to insert value : '))\n",
    "if index > len(arr):\n",
    "    print('Enter the correct value of index')\n",
    "else:\n",
    "    arr.insert(index,num)\n",
    "print('Array after inserting :',arr)"
   ]
  },
  {
   "cell_type": "markdown",
   "id": "6fe557ab",
   "metadata": {},
   "source": [
    "## 14. Python Program to delete element at end of Array."
   ]
  },
  {
   "cell_type": "code",
   "execution_count": 6,
   "id": "7ea1f1de",
   "metadata": {},
   "outputs": [
    {
     "data": {
      "text/plain": [
       "[10, 20, 25, 30, 40, 50]"
      ]
     },
     "execution_count": 6,
     "metadata": {},
     "output_type": "execute_result"
    }
   ],
   "source": [
    "arr"
   ]
  },
  {
   "cell_type": "code",
   "execution_count": 8,
   "id": "d25d46f4",
   "metadata": {},
   "outputs": [
    {
     "data": {
      "text/plain": [
       "50"
      ]
     },
     "execution_count": 8,
     "metadata": {},
     "output_type": "execute_result"
    }
   ],
   "source": [
    "arr.pop()"
   ]
  },
  {
   "cell_type": "code",
   "execution_count": 9,
   "id": "9ccf72fe",
   "metadata": {},
   "outputs": [
    {
     "name": "stdout",
     "output_type": "stream",
     "text": [
      "Array after removing the last element : [10, 20, 25, 30, 40]\n"
     ]
    }
   ],
   "source": [
    "print('Array after removing the last element :',arr)"
   ]
  },
  {
   "cell_type": "markdown",
   "id": "6671e199",
   "metadata": {},
   "source": [
    "## 15. Python Program to delete given element from Array."
   ]
  },
  {
   "cell_type": "code",
   "execution_count": 11,
   "id": "55ec4765",
   "metadata": {},
   "outputs": [
    {
     "name": "stdout",
     "output_type": "stream",
     "text": [
      "Enter the size of the array : 5\n",
      "Enter the element of array : 10\n",
      "Enter the element of array : 15\n",
      "Enter the element of array : 20\n",
      "Enter the element of array : 25\n",
      "Enter the element of array : 30\n",
      "[10, 15, 20, 25, 30]\n"
     ]
    }
   ],
   "source": [
    "size = int(input('Enter the size of the array : '))\n",
    "arr = []\n",
    "for i in range(size):\n",
    "    ele = int(input('Enter the element of array : '))\n",
    "    arr.append(ele)\n",
    "print(arr)"
   ]
  },
  {
   "cell_type": "code",
   "execution_count": 12,
   "id": "36306d19",
   "metadata": {},
   "outputs": [
    {
     "name": "stdout",
     "output_type": "stream",
     "text": [
      "Enter the number to be removed from array : 15\n",
      "Array after removing the number : [10, 20, 25, 30]\n"
     ]
    }
   ],
   "source": [
    "num = int(input('Enter the number to be removed from array : '))\n",
    "arr.remove(num)\n",
    "print('Array after removing the number :',arr)"
   ]
  },
  {
   "cell_type": "markdown",
   "id": "f004de97",
   "metadata": {},
   "source": [
    "## 16. Python Program to delete element from array at given index."
   ]
  },
  {
   "cell_type": "code",
   "execution_count": 13,
   "id": "7485a134",
   "metadata": {},
   "outputs": [
    {
     "name": "stdout",
     "output_type": "stream",
     "text": [
      "Enter the index to be removed : 2\n",
      "Array after removing : [10, 20, 40, 50]\n"
     ]
    }
   ],
   "source": [
    "arr = [10,20,30,40,50]\n",
    "index = int(input('Enter the index to be removed : '))\n",
    "arr.pop(index)\n",
    "print('Array after removing :',arr)"
   ]
  },
  {
   "cell_type": "markdown",
   "id": "ca2e9915",
   "metadata": {},
   "source": [
    "## 17. Python Program to find sum of array elements."
   ]
  },
  {
   "cell_type": "code",
   "execution_count": 14,
   "id": "5f6948c4",
   "metadata": {},
   "outputs": [
    {
     "name": "stdout",
     "output_type": "stream",
     "text": [
      "The sum of array is : 150\n"
     ]
    }
   ],
   "source": [
    "arr = [10,20,30,40,50]\n",
    "print('The sum of array is :',sum(arr))"
   ]
  },
  {
   "cell_type": "markdown",
   "id": "d93b4e98",
   "metadata": {},
   "source": [
    "## 18. Python Program to print all even numbers in array."
   ]
  },
  {
   "cell_type": "code",
   "execution_count": 15,
   "id": "94a201ff",
   "metadata": {},
   "outputs": [
    {
     "name": "stdout",
     "output_type": "stream",
     "text": [
      "[2, 4, 6, 8, 10]\n"
     ]
    }
   ],
   "source": [
    "list1 = [1,2,3,4,5,6,7,8,9,10]\n",
    "even_list = []\n",
    "for i in list1:\n",
    "    if i % 2 == 0:\n",
    "        even_list.append(i)\n",
    "print(even_list)"
   ]
  },
  {
   "cell_type": "markdown",
   "id": "c6be7858",
   "metadata": {},
   "source": [
    "## 19. Python Program to print all odd numbers in array."
   ]
  },
  {
   "cell_type": "code",
   "execution_count": 16,
   "id": "4c4db3ef",
   "metadata": {},
   "outputs": [
    {
     "data": {
      "text/plain": [
       "[1, 2, 3, 4, 5, 6, 7, 8, 9, 10]"
      ]
     },
     "execution_count": 16,
     "metadata": {},
     "output_type": "execute_result"
    }
   ],
   "source": [
    "list1"
   ]
  },
  {
   "cell_type": "code",
   "execution_count": 17,
   "id": "72181f73",
   "metadata": {},
   "outputs": [
    {
     "name": "stdout",
     "output_type": "stream",
     "text": [
      "[1, 3, 5, 7, 9]\n"
     ]
    }
   ],
   "source": [
    "odd_list = []\n",
    "for i in list1:\n",
    "    if i % 2 != 0:\n",
    "        odd_list.append(i)\n",
    "print(odd_list)"
   ]
  },
  {
   "cell_type": "code",
   "execution_count": null,
   "id": "380cbfca",
   "metadata": {},
   "outputs": [],
   "source": []
  }
 ],
 "metadata": {
  "kernelspec": {
   "display_name": "Python 3 (ipykernel)",
   "language": "python",
   "name": "python3"
  },
  "language_info": {
   "codemirror_mode": {
    "name": "ipython",
    "version": 3
   },
   "file_extension": ".py",
   "mimetype": "text/x-python",
   "name": "python",
   "nbconvert_exporter": "python",
   "pygments_lexer": "ipython3",
   "version": "3.9.13"
  }
 },
 "nbformat": 4,
 "nbformat_minor": 5
}
